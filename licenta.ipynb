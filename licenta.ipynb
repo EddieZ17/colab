{
  "nbformat": 4,
  "nbformat_minor": 0,
  "metadata": {
    "colab": {
      "name": "licenta.ipynb",
      "provenance": [],
      "authorship_tag": "ABX9TyMTKurjVDwTp2By9TFLNP7g",
      "include_colab_link": true
    },
    "kernelspec": {
      "name": "python3",
      "display_name": "Python 3"
    },
    "language_info": {
      "name": "python"
    }
  },
  "cells": [
    {
      "cell_type": "markdown",
      "metadata": {
        "id": "view-in-github",
        "colab_type": "text"
      },
      "source": [
        "<a href=\"https://colab.research.google.com/github/EddieZ17/colab/blob/main/licenta.ipynb\" target=\"_parent\"><img src=\"https://colab.research.google.com/assets/colab-badge.svg\" alt=\"Open In Colab\"/></a>"
      ]
    },
    {
      "cell_type": "code",
      "execution_count": 1,
      "metadata": {
        "colab": {
          "base_uri": "https://localhost:8080/"
        },
        "id": "EbE2-QC2ZueY",
        "outputId": "8123a32a-b907-48b6-c043-0546018dc467"
      },
      "outputs": [
        {
          "output_type": "stream",
          "name": "stdout",
          "text": [
            "Mounted at /content/drive\n"
          ]
        }
      ],
      "source": [
        "from google.colab import drive \n",
        "drive.mount('/content/drive')"
      ]
    },
    {
      "cell_type": "code",
      "source": [
        "/content/drive/MyDrive/cars_dataset\n",
        "\n",
        "import drive.MyDrive.numeFisier"
      ],
      "metadata": {
        "id": "z9peCGVdh9CM"
      },
      "execution_count": null,
      "outputs": []
    }
  ]
}